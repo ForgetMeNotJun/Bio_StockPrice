{
 "metadata": {
  "language_info": {
   "codemirror_mode": {
    "name": "ipython",
    "version": 3
   },
   "file_extension": ".py",
   "mimetype": "text/x-python",
   "name": "python",
   "nbconvert_exporter": "python",
   "pygments_lexer": "ipython3",
   "version": "3.8.8"
  },
  "orig_nbformat": 4,
  "kernelspec": {
   "name": "python3",
   "display_name": "Python 3.8.8 64-bit ('base': conda)"
  },
  "interpreter": {
   "hash": "6f992ab40698a4eb4c1b34c485c58d89903e0de0bc337334e4d537e379ad0de3"
  }
 },
 "nbformat": 4,
 "nbformat_minor": 2,
 "cells": [
  {
   "cell_type": "code",
   "execution_count": 1,
   "metadata": {},
   "outputs": [],
   "source": [
    "import pandas as pd\n",
    "from pandas_datareader import data\n",
    "from datetime import datetime\n",
    "\n",
    "#path \n",
    "data_path = '../data/'\n",
    "result_path = '../result/'\n",
    "\n",
    "# 株価データを取得\n",
    "def get_StockPrice(df_tosho, start_date):\n",
    "    #dfの作成\n",
    "    df_stockprice = pd.DataFrame(index=[], columns=[\n",
    "        'JP_Code',\n",
    "        'JP_Company',\n",
    "        'Market',\n",
    "        'Category',\n",
    "        'Date',\n",
    "        'Open',\n",
    "        'High',\n",
    "        'Low',\n",
    "        'Close',\n",
    "        'Volume'\n",
    "    ])\n",
    "\n",
    "    #株価の取得\n",
    "    for i in range(len(df_tosho)):\n",
    "        df = data.DataReader('{}.JP'.format(df_tosho['コード'][i]), 'stooq', start=start_date)\n",
    "        df.sort_index(inplace=True)\n",
    "        df.reset_index(inplace=True)\n",
    "\n",
    "        #dfの整備・結合\n",
    "        df[['JP_Code','JP_Company','Market', 'Category']] = df_tosho['コード'][i], df_tosho['銘柄名'][i], df_tosho['市場・商品区分'][i], df_tosho['規模区分'][i]\n",
    "        df_stockprice = pd.concat([df_stockprice,df])\n",
    "    return df_stockprice\n",
    "\n",
    "#企業コード辞書の読み込み\n",
    "df_tosho = pd.read_csv(data_path + 'Tosho_med.csv')\n",
    "\n",
    "#実行\n",
    "start_date = datetime(2010,1,1)\n",
    "df_stockprice = get_StockPrice(df_tosho, start_date)\n",
    "\n",
    "#export\n",
    "df_stockprice.to_excel(result_path + 'Stockprice_Med.xlsx',index=False)\n",
    "df_stockprice.to_csv(result_path + 'Stockprice_Med.csv',index=False)"
   ]
  }
 ]
}